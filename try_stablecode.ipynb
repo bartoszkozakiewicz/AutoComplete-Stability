{
 "cells": [
  {
   "cell_type": "code",
   "execution_count": 1,
   "metadata": {},
   "outputs": [
    {
     "name": "stderr",
     "output_type": "stream",
     "text": [
      "/home/laszer/.pyenv/versions/3.9.6/envs/stablecode/lib/python3.9/site-packages/tqdm/auto.py:21: TqdmWarning: IProgress not found. Please update jupyter and ipywidgets. See https://ipywidgets.readthedocs.io/en/stable/user_install.html\n",
      "  from .autonotebook import tqdm as notebook_tqdm\n",
      "Downloading (…)lve/main/config.json: 100%|██████████| 600/600 [00:00<00:00, 69.0kB/s]\n",
      "Downloading model.safetensors:  73%|███████▎  | 4.45G/6.08G [02:48<00:45, 35.8MB/s]"
     ]
    }
   ],
   "source": [
    "from transformers import AutoModelForCausalLM, AutoTokenizer\n",
    "tokenizer = AutoTokenizer.from_pretrained(\"stabilityai/stablecode-completion-alpha-3b-4k\")\n",
    "model = AutoModelForCausalLM.from_pretrained(\n",
    "  \"stabilityai/stablecode-completion-alpha-3b-4k\",\n",
    "  trust_remote_code=True,\n",
    "  torch_dtype=\"auto\",\n",
    ")\n",
    "model.cuda()\n",
    "inputs = tokenizer(\"import torch\\nimport torch.nn as nn\", return_tensors=\"pt\").to(\"cuda\")\n",
    "tokens = model.generate(\n",
    "  **inputs,\n",
    "  max_new_tokens=48,\n",
    "  temperature=0.2,\n",
    "  do_sample=True,\n",
    ")\n",
    "print(tokenizer.decode(tokens[0], skip_special_tokens=True))"
   ]
  },
  {
   "cell_type": "code",
   "execution_count": null,
   "metadata": {},
   "outputs": [],
   "source": [
    "latex_string = '''\n",
    "\\section{Topological f\\/ield theories and related algebras}\\label{s2}\n",
    "\n",
    "\\subsection{Closed topological f\\/ield theories} The simplest variant\n",
    "of topological f\\/ield theory is closed topological f\\/ield theory\n",
    "(\\cite{At, D2}, see~\\cite{K} for more references). In this case we consider oriented closed\n",
    "surfaces without boundary. Also  we f\\/ix a f\\/inite-dimensional vector space\n",
    "$A$ over a f\\/ield $\\mathbb{K}$ with basis $\\alpha_1, \\dots, \\alpha_N$ and associate a~number\n",
    "$\\lc a_1,a_2,\\dots ,a_n \\rc_{\\Omega}$ to each system of vectors\n",
    "$a_1,a_2,\\dots ,a_n\\in A$ situated at a set of points\n",
    "$p_1,p_2,\\dots ,p_n$ on a surface $\\Omega$ (Fig.~\\ref{f1}).\n",
    "\n",
    "%\\epsfxsize=7truecm\n",
    "\\begin{f\n",
    "'''"
   ]
  }
 ],
 "metadata": {
  "kernelspec": {
   "display_name": "stablecode",
   "language": "python",
   "name": "python3"
  },
  "language_info": {
   "codemirror_mode": {
    "name": "ipython",
    "version": 3
   },
   "file_extension": ".py",
   "mimetype": "text/x-python",
   "name": "python",
   "nbconvert_exporter": "python",
   "pygments_lexer": "ipython3",
   "version": "3.9.6"
  },
  "orig_nbformat": 4
 },
 "nbformat": 4,
 "nbformat_minor": 2
}
