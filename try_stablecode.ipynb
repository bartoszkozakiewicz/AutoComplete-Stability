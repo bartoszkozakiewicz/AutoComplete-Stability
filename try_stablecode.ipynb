{
 "cells": [
  {
   "cell_type": "code",
   "execution_count": null,
   "metadata": {},
   "outputs": [],
   "source": [
    "from transformers import AutoModelForCausalLM, AutoTokenizer\n"
   ]
  },
  {
   "cell_type": "code",
   "execution_count": null,
   "metadata": {},
   "outputs": [],
   "source": [
    "tokenizer = AutoTokenizer.from_pretrained(\"stabilityai/stablecode-completion-alpha-3b-4k\")\n",
    "model = AutoModelForCausalLM.from_pretrained(\n",
    "  \"stabilityai/stablecode-completion-alpha-3b-4k\",\n",
    "  trust_remote_code=True,\n",
    "  torch_dtype=\"auto\",\n",
    ")\n",
    "model.cuda()"
   ]
  },
  {
   "cell_type": "code",
   "execution_count": 6,
   "metadata": {},
   "outputs": [
    {
     "name": "stderr",
     "output_type": "stream",
     "text": [
      "Setting `pad_token_id` to `eos_token_id`:0 for open-end generation.\n"
     ]
    },
    {
     "name": "stdout",
     "output_type": "stream",
     "text": [
      "import torch\n",
      "import torch.nn as nn\n",
      "import torch.nn.functional as F\n",
      "from torch.autograd import Variable\n",
      "from torch.nn.utils.rnn import pack_padded_sequence, pad_packed_sequence\n",
      "from torch.nn.utils.rnn import\n"
     ]
    }
   ],
   "source": [
    "\n",
    "inputs = tokenizer(\"import torch\\nimport torch.nn as nn\", return_tensors=\"pt\", return_token_type_ids=False).to(\"cuda\")\n",
    "tokens = model.generate(\n",
    "  **inputs,\n",
    "  max_new_tokens=48,\n",
    "  temperature=0.2,\n",
    "  do_sample=True,\n",
    ")\n",
    "print(tokenizer.decode(tokens[0], skip_special_tokens=True))"
   ]
  },
  {
   "cell_type": "code",
   "execution_count": 9,
   "metadata": {},
   "outputs": [],
   "source": [
    "latex_string = r'''\n",
    "\\section{Topological f\\/ield theories and related algebras}\\label{s2}\n",
    "\n",
    "\\subsection{Closed topological f\\/ield theories} The simplest variant\n",
    "of topological f\\/ield theory is closed topological f\\/ield theory\n",
    "(\\cite{At, D2}, see~\\cite{K} for more references). In this case we consider oriented closed\n",
    "surfaces without boundary. Also  we f\\/ix a f\\/inite-dimensional vector space\n",
    "$A$ over a f\\/ield $\\mathbb{K}$ with basis $\\alpha_1, \\dots, \\alpha_N$ and associate a~number\n",
    "$\\lc a_1,a_2,\\dots ,a_n \\rc_{\\Omega}$ to each system of vectors\n",
    "$a_1,a_2,\\dots ,a_n\\in A$ situated at a set of points\n",
    "$p_1,p_2,\\dots ,p_n$ on a surface $\\Omega$ (Fig.~\\ref{f1}).\n",
    "\n",
    "%\\epsfxsize=7truecm\n",
    "\\begin{\n",
    "'''"
   ]
  },
  {
   "cell_type": "code",
   "execution_count": 10,
   "metadata": {},
   "outputs": [
    {
     "name": "stderr",
     "output_type": "stream",
     "text": [
      "Setting `pad_token_id` to `eos_token_id`:0 for open-end generation.\n"
     ]
    },
    {
     "name": "stdout",
     "output_type": "stream",
     "text": [
      "\n",
      "\\section{Topological f\\/ield theories and related algebras}\\label{s2}\n",
      "\n",
      "\\subsection{Closed topological f\\/ield theories} The simplest variant\n",
      "of topological f\\/ield theory is closed topological f\\/ield theory\n",
      "(\\cite{At, D2}, see~\\cite{K} for more references). In this case we consider oriented closed\n",
      "surfaces without boundary. Also  we f\\/ix a f\\/inite-dimensional vector space\n",
      "$A$ over a f\\/ield $\\mathbb{K}$ with basis $\\alpha_1, \\dots, \\alpha_N$ and associate a~number\n",
      "$\\lc a_1,a_2,\\dots,a_n \\rc_{\\Omega}$ to each system of vectors\n",
      "$a_1,a_2,\\dots,a_n\\in A$ situated at a set of points\n",
      "$p_1,p_2,\\dots,p_n$ on a surface $\\Omega$ (Fig.~\\ref{f1}).\n",
      "\n",
      "%\\epsfxsize=7truecm\n",
      "\\begin{\n",
      "figure}\n",
      "\\begin{center}\n",
      "\\includegraphics[width=0.5\\textwidth]{../figs/fig2.pdf}\n",
      "\\end{center}\n",
      "\\end{figure}\n",
      "\n",
      "\\subsection{Closed topo\n"
     ]
    }
   ],
   "source": [
    "inputs = tokenizer(latex_string, return_tensors=\"pt\", return_token_type_ids=False).to(\"cuda\")\n",
    "tokens = model.generate(\n",
    "  **inputs,\n",
    "  max_new_tokens=48,\n",
    "  temperature=0.2,\n",
    "  do_sample=True,\n",
    ")\n",
    "print(tokenizer.decode(tokens[0], skip_special_tokens=True))"
   ]
  },
  {
   "cell_type": "code",
   "execution_count": null,
   "metadata": {},
   "outputs": [],
   "source": []
  }
 ],
 "metadata": {
  "kernelspec": {
   "display_name": "stablecode",
   "language": "python",
   "name": "python3"
  },
  "language_info": {
   "codemirror_mode": {
    "name": "ipython",
    "version": 3
   },
   "file_extension": ".py",
   "mimetype": "text/x-python",
   "name": "python",
   "nbconvert_exporter": "python",
   "pygments_lexer": "ipython3",
   "version": "3.9.6"
  },
  "orig_nbformat": 4
 },
 "nbformat": 4,
 "nbformat_minor": 2
}
