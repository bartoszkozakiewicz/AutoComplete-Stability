{
 "cells": [
  {
   "cell_type": "code",
   "execution_count": 1,
   "metadata": {},
   "outputs": [
    {
     "name": "stderr",
     "output_type": "stream",
     "text": [
      "/home/laszer/.pyenv/versions/3.9.6/envs/stablecode_test/lib/python3.9/site-packages/tqdm/auto.py:21: TqdmWarning: IProgress not found. Please update jupyter and ipywidgets. See https://ipywidgets.readthedocs.io/en/stable/user_install.html\n",
      "  from .autonotebook import tqdm as notebook_tqdm\n"
     ]
    }
   ],
   "source": [
    "from transformers import AutoModelForCausalLM, AutoTokenizer\n"
   ]
  },
  {
   "cell_type": "code",
   "execution_count": 2,
   "metadata": {},
   "outputs": [
    {
     "data": {
      "text/plain": [
       "GPTNeoXForCausalLM(\n",
       "  (gpt_neox): GPTNeoXModel(\n",
       "    (embed_in): Embedding(49152, 2560)\n",
       "    (emb_dropout): Dropout(p=0.0, inplace=False)\n",
       "    (layers): ModuleList(\n",
       "      (0-31): 32 x GPTNeoXLayer(\n",
       "        (input_layernorm): LayerNorm((2560,), eps=1e-05, elementwise_affine=True)\n",
       "        (post_attention_layernorm): LayerNorm((2560,), eps=1e-05, elementwise_affine=True)\n",
       "        (post_attention_dropout): Dropout(p=0.0, inplace=False)\n",
       "        (post_mlp_dropout): Dropout(p=0.0, inplace=False)\n",
       "        (attention): GPTNeoXAttention(\n",
       "          (rotary_emb): GPTNeoXRotaryEmbedding()\n",
       "          (query_key_value): Linear(in_features=2560, out_features=7680, bias=True)\n",
       "          (dense): Linear(in_features=2560, out_features=2560, bias=True)\n",
       "          (attention_dropout): Dropout(p=0.0, inplace=False)\n",
       "        )\n",
       "        (mlp): GPTNeoXMLP(\n",
       "          (dense_h_to_4h): Linear(in_features=2560, out_features=10240, bias=True)\n",
       "          (dense_4h_to_h): Linear(in_features=10240, out_features=2560, bias=True)\n",
       "          (act): GELUActivation()\n",
       "        )\n",
       "      )\n",
       "    )\n",
       "    (final_layer_norm): LayerNorm((2560,), eps=1e-05, elementwise_affine=True)\n",
       "  )\n",
       "  (embed_out): Linear(in_features=2560, out_features=49152, bias=False)\n",
       ")"
      ]
     },
     "execution_count": 2,
     "metadata": {},
     "output_type": "execute_result"
    }
   ],
   "source": [
    "tokenizer = AutoTokenizer.from_pretrained(\"stabilityai/stablecode-completion-alpha-3b-4k\")\n",
    "model = AutoModelForCausalLM.from_pretrained(\n",
    "  \"stabilityai/stablecode-completion-alpha-3b-4k\",\n",
    "  trust_remote_code=True,\n",
    "  torch_dtype=\"auto\",\n",
    ")\n",
    "model.cuda()"
   ]
  },
  {
   "cell_type": "code",
   "execution_count": 3,
   "metadata": {},
   "outputs": [
    {
     "name": "stderr",
     "output_type": "stream",
     "text": [
      "Setting `pad_token_id` to `eos_token_id`:0 for open-end generation.\n"
     ]
    },
    {
     "name": "stdout",
     "output_type": "stream",
     "text": [
      "import torch\n",
      "import torch.nn as nn\n",
      "import torch.nn\n"
     ]
    }
   ],
   "source": [
    "\n",
    "inputs = tokenizer(\"import torch\\nimport torch.nn as nn\", return_tensors=\"pt\", return_token_type_ids=False).to(\"cuda\")\n",
    "\n",
    "tokens = model.generate(\n",
    "  **inputs,\n",
    "  max_new_tokens=5,\n",
    "  temperature=0.2,\n",
    "  do_sample=True,\n",
    ")\n",
    "print(tokenizer.decode(tokens[0], skip_special_tokens=True))"
   ]
  },
  {
   "cell_type": "code",
   "execution_count": 4,
   "metadata": {},
   "outputs": [],
   "source": [
    "latex_string = r'''\n",
    "\\section{Topological f\\/ield theories and related algebras}\\label{s2}\n",
    "\n",
    "\\subsection{Closed topological f\\/ield theories} The simplest variant\n",
    "of topological f\\/ield theory is closed topological f\\/ield theory\n",
    "(\\cite{At, D2}, see~\\cite{K} for more references). In this case we consider oriented closed\n",
    "surfaces without boundary. Also  we f\\/ix a f\\/inite-dimensional vector space\n",
    "$A$ over a f\\/ield $\\mathbb{K}$ with basis $\\alpha_1, \\dots, \\alpha_N$ and associate a~number\n",
    "$\\lc a_1,a_2,\\dots ,a_n \\rc_{\\Omega}$ to each system of vectors\n",
    "$a_1,a_2,\\dots ,a_n\\in A$ situated at a set of points\n",
    "$p_1,p_2,\\dots ,p_n$ on a surface $\\Omega$ (Fig.~\\ref{f1}).\n",
    "\n",
    "%\\epsfxsize=7truecm\n",
    "\\begin{\n",
    "'''"
   ]
  },
  {
   "cell_type": "code",
   "execution_count": 5,
   "metadata": {},
   "outputs": [
    {
     "name": "stderr",
     "output_type": "stream",
     "text": [
      "/home/laszer/.pyenv/versions/3.9.6/envs/stablecode_test/lib/python3.9/site-packages/transformers/generation/configuration_utils.py:362: UserWarning: `do_sample` is set to `False`. However, `temperature` is set to `0` -- this flag is only used in sample-based generation modes. You should set `do_sample=True` or unset `temperature`.\n",
      "  warnings.warn(\n",
      "Setting `pad_token_id` to `eos_token_id`:0 for open-end generation.\n"
     ]
    },
    {
     "name": "stdout",
     "output_type": "stream",
     "text": [
      "\n",
      "\\section{Topological f\\/ield theories and related algebras}\\label{s2}\n",
      "\n",
      "\\subsection{Closed topological f\\/ield theories} The simplest variant\n",
      "of topological f\\/ield theory is closed topological f\\/ield theory\n",
      "(\\cite{At, D2}, see~\\cite{K} for more references). In this case we consider oriented closed\n",
      "surfaces without boundary. Also  we f\\/ix a f\\/inite-dimensional vector space\n",
      "$A$ over a f\\/ield $\\mathbb{K}$ with basis $\\alpha_1, \\dots, \\alpha_N$ and associate a~number\n",
      "$\\lc a_1,a_2,\\dots,a_n \\rc_{\\Omega}$ to each system of vectors\n",
      "$a_1,a_2,\\dots,a_n\\in A$ situated at a set of points\n",
      "$p_1,p_2,\\dots,p_n$ on a surface $\\Omega$ (Fig.~\\ref{f1}).\n",
      "\n",
      "%\\epsfxsize=7truecm\n",
      "\\begin{\n",
      "{\\bf f}\n",
      "\\begin{array}{rcl}\n",
      "\\Omega & \\Omega & \\Omega & \\Omega & \\Omega & \\Omega & \\Omega & \\Omega & \\Omega & \\Omega & \\Omega & \\\n"
     ]
    }
   ],
   "source": [
    "inputs = tokenizer(latex_string, return_tensors=\"pt\", return_token_type_ids=False).to(\"cuda\")\n",
    "tokens = model.generate(\n",
    "  **inputs,\n",
    "  max_new_tokens=48,\n",
    "  temperature=0,\n",
    "  do_sample=False,\n",
    ")\n",
    "print(tokenizer.decode(tokens[0], skip_special_tokens=True))"
   ]
  },
  {
   "cell_type": "code",
   "execution_count": 6,
   "metadata": {},
   "outputs": [],
   "source": [
    "# import matplotlib.pyplot as plt\n",
    "\n",
    "# lang_popularity = {\n",
    "#     'C-lang': 398_878,\n",
    "#     'Swift':  329_778,\n",
    "#     'LaTeX':  252_687,\n",
    "#     'Ruby': 228_380,\n",
    "#     'TypeScript':  221_228,\n",
    "#     'Laravel': 208_004,\n",
    "# }\n",
    "# # barplot with popularity of various languages, LaTeX colored in orange, rest in blue\n",
    "# plt.bar(lang_popularity.keys(), lang_popularity.values(), color=['#E76F51' if x=='LaTeX' else '#2A9D8F' for x in lang_popularity.keys()])"
   ]
  },
  {
   "cell_type": "code",
   "execution_count": null,
   "metadata": {},
   "outputs": [],
   "source": []
  }
 ],
 "metadata": {
  "kernelspec": {
   "display_name": "stablecode_test",
   "language": "python",
   "name": "stablecode_test"
  },
  "language_info": {
   "codemirror_mode": {
    "name": "ipython",
    "version": 3
   },
   "file_extension": ".py",
   "mimetype": "text/x-python",
   "name": "python",
   "nbconvert_exporter": "python",
   "pygments_lexer": "ipython3",
   "version": "3.9.6"
  },
  "orig_nbformat": 4
 },
 "nbformat": 4,
 "nbformat_minor": 2
}
