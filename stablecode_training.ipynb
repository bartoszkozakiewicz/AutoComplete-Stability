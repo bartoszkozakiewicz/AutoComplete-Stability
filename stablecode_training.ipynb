{
  "cells": [
    {
      "cell_type": "markdown",
      "metadata": {
        "id": "hSekKI2EPzSI"
      },
      "source": [
        "Dataset"
      ]
    },
    {
      "cell_type": "code",
      "execution_count": 1,
      "metadata": {
        "id": "oC64ow5FP0Oo"
      },
      "outputs": [],
      "source": [
        "X = [\"\\docume\",\n",
        "     \"\\date{\\t\",\n",
        "     '''\\centering\n",
        "\\begin{tabular}{|c|c|c|c|c|}\n",
        "\\hline X &\n",
        "''',\n",
        "     \"\\se\",\n",
        "     r'''\\NewPart{Work experience}\n",
        "\\TimeEntry{07.2022 - 09.2022}{Junior engineer in power electronics}{at Trumpf Huettinger}{\n",
        "\\begin{compactitem}[-]\n",
        "    \\it''']"
      ]
    },
    {
      "cell_type": "markdown",
      "metadata": {
        "id": "zIgwd9_FBaT5"
      },
      "source": [
        "Tokenizer"
      ]
    },
    {
      "cell_type": "code",
      "execution_count": 2,
      "metadata": {
        "id": "fDgGFJXVBbx0"
      },
      "outputs": [
        {
          "name": "stderr",
          "output_type": "stream",
          "text": [
            "/home/laszer/.pyenv/versions/3.9.6/envs/stablecode_test/lib/python3.9/site-packages/tqdm/auto.py:21: TqdmWarning: IProgress not found. Please update jupyter and ipywidgets. See https://ipywidgets.readthedocs.io/en/stable/user_install.html\n",
            "  from .autonotebook import tqdm as notebook_tqdm\n"
          ]
        }
      ],
      "source": [
        "import time\n",
        "from transformers import AutoModelForCausalLM, AutoTokenizer\n",
        "tokenizer = AutoTokenizer.from_pretrained(\"stabilityai/stablecode-completion-alpha-3b-4k\")\n",
        "# Add a padding token to the tokenizer"
      ]
    },
    {
      "cell_type": "code",
      "execution_count": 3,
      "metadata": {
        "colab": {
          "base_uri": "https://localhost:8080/"
        },
        "id": "96AUAB8jb9iV",
        "outputId": "7835e41f-f01c-4faf-97d4-2301d7134aab"
      },
      "outputs": [
        {
          "data": {
            "text/plain": [
              "1"
            ]
          },
          "execution_count": 3,
          "metadata": {},
          "output_type": "execute_result"
        }
      ],
      "source": [
        "tokenizer.add_special_tokens({'pad_token': '[PAD]'})"
      ]
    },
    {
      "cell_type": "code",
      "execution_count": 4,
      "metadata": {
        "colab": {
          "base_uri": "https://localhost:8080/"
        },
        "id": "2mMShVN_bm_G",
        "outputId": "f039d12d-ca9d-4859-836c-2e6362b06271"
      },
      "outputs": [
        {
          "data": {
            "text/plain": [
              "49153"
            ]
          },
          "execution_count": 4,
          "metadata": {},
          "output_type": "execute_result"
        }
      ],
      "source": [
        "len(tokenizer)"
      ]
    },
    {
      "cell_type": "code",
      "execution_count": 5,
      "metadata": {
        "id": "RATwAxGTP1df"
      },
      "outputs": [],
      "source": [
        "X_encodings = tokenizer(X,  max_length=128,return_tensors=\"pt\",truncation=True,padding=True)"
      ]
    },
    {
      "cell_type": "code",
      "execution_count": 6,
      "metadata": {
        "id": "AoeCyVyJQxVV"
      },
      "outputs": [],
      "source": [
        "from torch.utils.data import Dataset, DataLoader\n",
        "\n",
        "class AutofillDataset(Dataset):\n",
        "    def __init__(self, input_ids, attention_mask, labels):\n",
        "        self.input_ids = input_ids\n",
        "        self.attention_mask = attention_mask\n",
        "        self.labels = labels\n",
        "\n",
        "    def __len__(self):\n",
        "        return len(self.input_ids)\n",
        "\n",
        "    def __getitem__(self, idx):\n",
        "        input_id = self.input_ids[idx]\n",
        "        attention_mask = self.attention_mask[idx]\n",
        "        label = self.labels[idx]\n",
        "\n",
        "        return {\n",
        "            \"input_ids\": input_id,\n",
        "            \"attention_mask\": attention_mask,\n",
        "            \"labels\": label\n",
        "        }\n",
        "\n",
        "# Encoded data\n",
        "input_ids = X_encodings[\"input_ids\"]\n",
        "attention_mask = X_encodings[\"attention_mask\"]\n",
        "labels = X_encodings[\"input_ids\"]\n",
        "\n",
        "# Data creation\n",
        "autofill_dataset = AutofillDataset(input_ids, attention_mask, labels)\n",
        "\n",
        "# Dataloader creation\n",
        "batch_size = 4\n",
        "dataloader = DataLoader(autofill_dataset, batch_size=batch_size, shuffle=True)\n"
      ]
    },
    {
      "cell_type": "code",
      "execution_count": 7,
      "metadata": {
        "colab": {
          "base_uri": "https://localhost:8080/"
        },
        "id": "UQjMwVNkcnIG",
        "outputId": "660f70fa-4f26-460d-fd10-3c4024e5b300"
      },
      "outputs": [
        {
          "name": "stdout",
          "output_type": "stream",
          "text": [
            "Batch size: 5\n"
          ]
        }
      ],
      "source": [
        "batch_size = len(autofill_dataset)\n",
        "print(\"Batch size:\", batch_size)"
      ]
    },
    {
      "cell_type": "markdown",
      "metadata": {
        "id": "c05253oOQ1SJ"
      },
      "source": [
        "FINE TUNING"
      ]
    },
    {
      "cell_type": "code",
      "execution_count": 8,
      "metadata": {
        "colab": {
          "base_uri": "https://localhost:8080/"
        },
        "id": "_8_H6Huf_z63",
        "outputId": "476c5d96-6098-4099-9742-5182b96d7dd5"
      },
      "outputs": [
        {
          "name": "stdout",
          "output_type": "stream",
          "text": [
            "huggingface/tokenizers: The current process just got forked, after parallelism has already been used. Disabling parallelism to avoid deadlocks...\n",
            "To disable this warning, you can either:\n",
            "\t- Avoid using `tokenizers` before the fork if possible\n",
            "\t- Explicitly set the environment variable TOKENIZERS_PARALLELISM=(true | false)\n",
            "huggingface/tokenizers: The current process just got forked, after parallelism has already been used. Disabling parallelism to avoid deadlocks...\n",
            "To disable this warning, you can either:\n",
            "\t- Avoid using `tokenizers` before the fork if possible\n",
            "\t- Explicitly set the environment variable TOKENIZERS_PARALLELISM=(true | false)\n"
          ]
        }
      ],
      "source": [
        "from transformers import Trainer, TrainingArguments, AutoModelForCausalLM\n",
        "\n",
        "model = AutoModelForCausalLM.from_pretrained(\n",
        "  \"stabilityai/stablecode-completion-alpha-3b-4k\",\n",
        "  trust_remote_code=True,\n",
        "  torch_dtype=\"auto\",\n",
        "  load_in_8bit=True\n",
        ")\n",
        "# model.cuda()\n"
      ]
    },
    {
      "cell_type": "code",
      "execution_count": 9,
      "metadata": {},
      "outputs": [],
      "source": [
        "# model.enable_xformers_memory_efficient_attention()"
      ]
    },
    {
      "cell_type": "code",
      "execution_count": 10,
      "metadata": {},
      "outputs": [
        {
          "name": "stderr",
          "output_type": "stream",
          "text": [
            "You are resizing the embedding layer without providing a `pad_to_multiple_of` parameter. This means that the new embeding dimension will be 49153. This might induce some performance reduction as *Tensor Cores* will not be available. For more details  about this, or help on choosing the correct value for resizing, refer to this guide: https://docs.nvidia.com/deeplearning/performance/dl-performance-matrix-multiplication/index.html#requirements-tc\n"
          ]
        },
        {
          "data": {
            "text/plain": [
              "Embedding(49153, 2560)"
            ]
          },
          "execution_count": 10,
          "metadata": {},
          "output_type": "execute_result"
        }
      ],
      "source": [
        "model.resize_token_embeddings(len(tokenizer))"
      ]
    },
    {
      "cell_type": "markdown",
      "metadata": {
        "id": "R1mgiYnJRIYc"
      },
      "source": [
        "TRAIN"
      ]
    },
    {
      "cell_type": "code",
      "execution_count": 11,
      "metadata": {
        "colab": {
          "base_uri": "https://localhost:8080/",
          "height": 373
        },
        "id": "ffqF6g79RE4R",
        "outputId": "daa827ed-3b05-4529-a6bc-635a49c473d7"
      },
      "outputs": [
        {
          "name": "stderr",
          "output_type": "stream",
          "text": [
            "100%|██████████| 15/15 [00:01<00:00,  7.98it/s]"
          ]
        },
        {
          "name": "stdout",
          "output_type": "stream",
          "text": [
            "{'train_runtime': 1.8788, 'train_samples_per_second': 7.984, 'train_steps_per_second': 7.984, 'train_loss': 6.154166666666667, 'epoch': 3.0}\n"
          ]
        },
        {
          "name": "stderr",
          "output_type": "stream",
          "text": [
            "\n"
          ]
        },
        {
          "data": {
            "text/plain": [
              "TrainOutput(global_step=15, training_loss=6.154166666666667, metrics={'train_runtime': 1.8788, 'train_samples_per_second': 7.984, 'train_steps_per_second': 7.984, 'train_loss': 6.154166666666667, 'epoch': 3.0})"
            ]
          },
          "execution_count": 11,
          "metadata": {},
          "output_type": "execute_result"
        }
      ],
      "source": [
        "training_args = TrainingArguments(\n",
        "    per_device_train_batch_size=1,\n",
        "    output_dir=\"./results\",\n",
        "    evaluation_strategy=\"steps\",\n",
        "    # eval_steps=500,\n",
        "    save_total_limit=2,\n",
        "    num_train_epochs=3,\n",
        "    # fp16=True,\n",
        "    # per_device_train_batch_size=8,\n",
        ")\n",
        "\n",
        "trainer = Trainer(\n",
        "    model=model,\n",
        "    args=training_args,\n",
        "    train_dataset=autofill_dataset, #autofill_dataset\n",
        ")\n",
        "\n",
        "trainer.train()"
      ]
    }
  ],
  "metadata": {
    "accelerator": "GPU",
    "colab": {
      "gpuType": "T4",
      "machine_shape": "hm",
      "provenance": []
    },
    "kernelspec": {
      "display_name": "stablecode_test",
      "language": "python",
      "name": "stablecode_test"
    },
    "language_info": {
      "codemirror_mode": {
        "name": "ipython",
        "version": 3
      },
      "file_extension": ".py",
      "mimetype": "text/x-python",
      "name": "python",
      "nbconvert_exporter": "python",
      "pygments_lexer": "ipython3",
      "version": "3.9.6"
    }
  },
  "nbformat": 4,
  "nbformat_minor": 0
}
